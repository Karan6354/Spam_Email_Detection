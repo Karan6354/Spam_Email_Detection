{
 "cells": [
  {
   "cell_type": "markdown",
   "metadata": {},
   "source": [
    "# **Step 1: Load and Clean Data**"
   ]
  },
  {
   "cell_type": "code",
   "execution_count": 2,
   "metadata": {
    "execution": {
     "iopub.execute_input": "2025-01-04T18:11:03.584383Z",
     "iopub.status.busy": "2025-01-04T18:11:03.584051Z",
     "iopub.status.idle": "2025-01-04T18:11:04.095544Z",
     "shell.execute_reply": "2025-01-04T18:11:04.094354Z",
     "shell.execute_reply.started": "2025-01-04T18:11:03.584342Z"
    },
    "trusted": true
   },
   "outputs": [
    {
     "data": {
      "text/html": [
       "<div>\n",
       "<style scoped>\n",
       "    .dataframe tbody tr th:only-of-type {\n",
       "        vertical-align: middle;\n",
       "    }\n",
       "\n",
       "    .dataframe tbody tr th {\n",
       "        vertical-align: top;\n",
       "    }\n",
       "\n",
       "    .dataframe thead th {\n",
       "        text-align: right;\n",
       "    }\n",
       "</style>\n",
       "<table border=\"1\" class=\"dataframe\">\n",
       "  <thead>\n",
       "    <tr style=\"text-align: right;\">\n",
       "      <th></th>\n",
       "      <th>text</th>\n",
       "      <th>spam</th>\n",
       "    </tr>\n",
       "  </thead>\n",
       "  <tbody>\n",
       "    <tr>\n",
       "      <th>0</th>\n",
       "      <td>Subject: naturally irresistible your corporate...</td>\n",
       "      <td>1</td>\n",
       "    </tr>\n",
       "    <tr>\n",
       "      <th>1</th>\n",
       "      <td>Subject: the stock trading gunslinger  fanny i...</td>\n",
       "      <td>1</td>\n",
       "    </tr>\n",
       "    <tr>\n",
       "      <th>2</th>\n",
       "      <td>Subject: unbelievable new homes made easy  im ...</td>\n",
       "      <td>1</td>\n",
       "    </tr>\n",
       "    <tr>\n",
       "      <th>3</th>\n",
       "      <td>Subject: 4 color printing special  request add...</td>\n",
       "      <td>1</td>\n",
       "    </tr>\n",
       "    <tr>\n",
       "      <th>4</th>\n",
       "      <td>Subject: do not have money , get software cds ...</td>\n",
       "      <td>1</td>\n",
       "    </tr>\n",
       "  </tbody>\n",
       "</table>\n",
       "</div>"
      ],
      "text/plain": [
       "                                                text  spam\n",
       "0  Subject: naturally irresistible your corporate...     1\n",
       "1  Subject: the stock trading gunslinger  fanny i...     1\n",
       "2  Subject: unbelievable new homes made easy  im ...     1\n",
       "3  Subject: 4 color printing special  request add...     1\n",
       "4  Subject: do not have money , get software cds ...     1"
      ]
     },
     "execution_count": 2,
     "metadata": {},
     "output_type": "execute_result"
    }
   ],
   "source": [
    "import numpy as np\n",
    "import pandas as pd\n",
    "\n",
    "filepath = \"Spam_Email_Dataset/emails.csv\"\n",
    "\n",
    "df = pd.read_csv(filepath)\n",
    "df.head()"
   ]
  },
  {
   "cell_type": "code",
   "execution_count": 3,
   "metadata": {
    "execution": {
     "iopub.execute_input": "2025-01-04T18:11:04.097141Z",
     "iopub.status.busy": "2025-01-04T18:11:04.096803Z",
     "iopub.status.idle": "2025-01-04T18:11:04.109215Z",
     "shell.execute_reply": "2025-01-04T18:11:04.108309Z",
     "shell.execute_reply.started": "2025-01-04T18:11:04.097111Z"
    },
    "trusted": true
   },
   "outputs": [],
   "source": [
    "# Shuffle the DataFrame deterministically using a fixed random_state (seed)\n",
    "shuffled_df = df.sample(frac=1, random_state=42).reset_index(drop=True)"
   ]
  },
  {
   "cell_type": "code",
   "execution_count": 4,
   "metadata": {
    "execution": {
     "iopub.execute_input": "2025-01-04T18:11:04.111237Z",
     "iopub.status.busy": "2025-01-04T18:11:04.110890Z",
     "iopub.status.idle": "2025-01-04T18:11:04.132285Z",
     "shell.execute_reply": "2025-01-04T18:11:04.130663Z",
     "shell.execute_reply.started": "2025-01-04T18:11:04.111199Z"
    },
    "trusted": true
   },
   "outputs": [
    {
     "name": "stdout",
     "output_type": "stream",
     "text": [
      "Before Shuffle:\n",
      "                                                 text  spam\n",
      "0  Subject: naturally irresistible your corporate...     1\n",
      "1  Subject: the stock trading gunslinger  fanny i...     1\n",
      "2  Subject: unbelievable new homes made easy  im ...     1\n",
      "3  Subject: 4 color printing special  request add...     1\n",
      "4  Subject: do not have money , get software cds ...     1\n",
      "Shuffled Data:\n",
      "                                                 text  spam\n",
      "0  Subject: re : energy derivatives conference - ...     0\n",
      "1  Subject: financial maths course , part 2  vinc...     0\n",
      "2  Subject: re : bullet points  please respond to...     0\n",
      "3  Subject: re : enron default swaps  darrell ,  ...     0\n",
      "4  Subject: re : power question  steve ,  elena c...     0\n",
      "5  Subject: all wraps around graand  hello concet...     1\n",
      "6  Subject: allocations  it is now official ! ! !...     0\n",
      "7  Subject: invitation to sunday dinner with vinc...     0\n",
      "8  Subject: re : ming sit  vince ,  thanks for th...     0\n",
      "9  Subject: no further access to your account wil...     1\n"
     ]
    }
   ],
   "source": [
    "print(\"Before Shuffle:\\n\", df.head())  # See the original data\n",
    "print(\"Shuffled Data:\\n\", shuffled_df.head(10))  # See the shuffled data\n"
   ]
  },
  {
   "cell_type": "code",
   "execution_count": 5,
   "metadata": {
    "execution": {
     "iopub.execute_input": "2025-01-04T18:11:04.134289Z",
     "iopub.status.busy": "2025-01-04T18:11:04.133947Z",
     "iopub.status.idle": "2025-01-04T18:11:04.145735Z",
     "shell.execute_reply": "2025-01-04T18:11:04.144633Z",
     "shell.execute_reply.started": "2025-01-04T18:11:04.134256Z"
    },
    "trusted": true
   },
   "outputs": [],
   "source": [
    "# Shuffle data for better training\n",
    "df = shuffled_df"
   ]
  },
  {
   "cell_type": "code",
   "execution_count": 6,
   "metadata": {
    "execution": {
     "iopub.execute_input": "2025-01-04T18:11:04.147212Z",
     "iopub.status.busy": "2025-01-04T18:11:04.146971Z",
     "iopub.status.idle": "2025-01-04T18:11:04.178700Z",
     "shell.execute_reply": "2025-01-04T18:11:04.177751Z",
     "shell.execute_reply.started": "2025-01-04T18:11:04.147192Z"
    },
    "trusted": true
   },
   "outputs": [
    {
     "name": "stdout",
     "output_type": "stream",
     "text": [
      "<class 'pandas.core.frame.DataFrame'>\n",
      "RangeIndex: 5728 entries, 0 to 5727\n",
      "Data columns (total 2 columns):\n",
      " #   Column  Non-Null Count  Dtype \n",
      "---  ------  --------------  ----- \n",
      " 0   text    5728 non-null   object\n",
      " 1   spam    5728 non-null   int64 \n",
      "dtypes: int64(1), object(1)\n",
      "memory usage: 89.6+ KB\n"
     ]
    }
   ],
   "source": [
    "# read about data\n",
    "df.info()"
   ]
  },
  {
   "cell_type": "code",
   "execution_count": 7,
   "metadata": {
    "execution": {
     "iopub.execute_input": "2025-01-04T18:11:04.180008Z",
     "iopub.status.busy": "2025-01-04T18:11:04.179693Z",
     "iopub.status.idle": "2025-01-04T18:11:04.187302Z",
     "shell.execute_reply": "2025-01-04T18:11:04.186571Z",
     "shell.execute_reply.started": "2025-01-04T18:11:04.179978Z"
    },
    "trusted": true
   },
   "outputs": [
    {
     "data": {
      "text/plain": [
       "text    0\n",
       "spam    0\n",
       "dtype: int64"
      ]
     },
     "execution_count": 7,
     "metadata": {},
     "output_type": "execute_result"
    }
   ],
   "source": [
    "# missing values\n",
    "df.isnull().sum()"
   ]
  },
  {
   "cell_type": "code",
   "execution_count": 8,
   "metadata": {
    "execution": {
     "iopub.execute_input": "2025-01-04T18:11:04.188835Z",
     "iopub.status.busy": "2025-01-04T18:11:04.188598Z",
     "iopub.status.idle": "2025-01-04T18:11:04.223841Z",
     "shell.execute_reply": "2025-01-04T18:11:04.222936Z",
     "shell.execute_reply.started": "2025-01-04T18:11:04.188815Z"
    },
    "trusted": true
   },
   "outputs": [
    {
     "data": {
      "text/plain": [
       "np.int64(33)"
      ]
     },
     "execution_count": 8,
     "metadata": {},
     "output_type": "execute_result"
    }
   ],
   "source": [
    "# check for dulicate values\n",
    "df.duplicated().sum()"
   ]
  },
  {
   "cell_type": "code",
   "execution_count": 9,
   "metadata": {
    "execution": {
     "iopub.execute_input": "2025-01-04T18:11:04.226566Z",
     "iopub.status.busy": "2025-01-04T18:11:04.226303Z",
     "iopub.status.idle": "2025-01-04T18:11:04.250060Z",
     "shell.execute_reply": "2025-01-04T18:11:04.249409Z",
     "shell.execute_reply.started": "2025-01-04T18:11:04.226547Z"
    },
    "trusted": true
   },
   "outputs": [],
   "source": [
    "# remove dulicate values\n",
    "df = df.drop_duplicates(keep='first')"
   ]
  },
  {
   "cell_type": "code",
   "execution_count": 10,
   "metadata": {
    "execution": {
     "iopub.execute_input": "2025-01-04T18:11:04.251866Z",
     "iopub.status.busy": "2025-01-04T18:11:04.251598Z",
     "iopub.status.idle": "2025-01-04T18:11:04.277240Z",
     "shell.execute_reply": "2025-01-04T18:11:04.276589Z",
     "shell.execute_reply.started": "2025-01-04T18:11:04.251845Z"
    },
    "trusted": true
   },
   "outputs": [
    {
     "data": {
      "text/plain": [
       "np.int64(0)"
      ]
     },
     "execution_count": 10,
     "metadata": {},
     "output_type": "execute_result"
    }
   ],
   "source": [
    "# check for dulicate values\n",
    "df.duplicated().sum()"
   ]
  },
  {
   "cell_type": "code",
   "execution_count": 11,
   "metadata": {
    "execution": {
     "iopub.execute_input": "2025-01-04T18:11:04.278194Z",
     "iopub.status.busy": "2025-01-04T18:11:04.277984Z",
     "iopub.status.idle": "2025-01-04T18:11:04.283301Z",
     "shell.execute_reply": "2025-01-04T18:11:04.282441Z",
     "shell.execute_reply.started": "2025-01-04T18:11:04.278177Z"
    },
    "trusted": true
   },
   "outputs": [
    {
     "data": {
      "text/plain": [
       "(5695, 2)"
      ]
     },
     "execution_count": 11,
     "metadata": {},
     "output_type": "execute_result"
    }
   ],
   "source": [
    "df.shape"
   ]
  },
  {
   "cell_type": "markdown",
   "metadata": {},
   "source": [
    "# **Step 2: Exploratory Data Analysis (EDA)**"
   ]
  },
  {
   "cell_type": "code",
   "execution_count": 12,
   "metadata": {
    "execution": {
     "iopub.execute_input": "2025-01-04T18:11:04.284479Z",
     "iopub.status.busy": "2025-01-04T18:11:04.284211Z",
     "iopub.status.idle": "2025-01-04T18:11:04.298990Z",
     "shell.execute_reply": "2025-01-04T18:11:04.298241Z",
     "shell.execute_reply.started": "2025-01-04T18:11:04.284459Z"
    },
    "trusted": true
   },
   "outputs": [
    {
     "data": {
      "text/plain": [
       "spam\n",
       "0    4327\n",
       "1    1368\n",
       "Name: count, dtype: int64"
      ]
     },
     "execution_count": 12,
     "metadata": {},
     "output_type": "execute_result"
    }
   ],
   "source": [
    "df['spam'].value_counts()"
   ]
  },
  {
   "cell_type": "code",
   "execution_count": 13,
   "metadata": {
    "execution": {
     "iopub.execute_input": "2025-01-04T18:11:04.299883Z",
     "iopub.status.busy": "2025-01-04T18:11:04.299685Z",
     "iopub.status.idle": "2025-01-04T18:11:05.202934Z",
     "shell.execute_reply": "2025-01-04T18:11:05.200937Z",
     "shell.execute_reply.started": "2025-01-04T18:11:04.299861Z"
    },
    "trusted": true
   },
   "outputs": [
    {
     "data": {
      "image/png": "[encoded data removed]",
      "text/plain": [
       "<Figure size 640x480 with 1 Axes>"
      ]
     },
     "metadata": {},
     "output_type": "display_data"
    }
   ],
   "source": [
    "import matplotlib.pyplot as plt\n",
    "import seaborn as sns\n",
    "\n",
    "plt.pie(df['spam'].value_counts(), labels=['ham','spam'],autopct=\"%0.2f\")\n",
    "plt.title('Spam vs Not Spam Distribution')\n",
    "plt.show()"
   ]
  },
  {
   "cell_type": "code",
   "execution_count": 14,
   "metadata": {
    "execution": {
     "iopub.execute_input": "2025-01-04T18:11:05.204575Z",
     "iopub.status.busy": "2025-01-04T18:11:05.203887Z",
     "iopub.status.idle": "2025-01-04T18:11:05.439723Z",
     "shell.execute_reply": "2025-01-04T18:11:05.438804Z",
     "shell.execute_reply.started": "2025-01-04T18:11:05.204525Z"
    },
    "trusted": true
   },
   "outputs": [
    {
     "data": {
      "image/png": "[encoded data removed]",
      "text/plain": [
       "<Figure size 800x500 with 1 Axes>"
      ]
     },
     "metadata": {},
     "output_type": "display_data"
    },
    {
     "name": "stdout",
     "output_type": "stream",
     "text": [
      "spam\n",
      "0    4327\n",
      "1    1368\n",
      "Name: count, dtype: int64\n"
     ]
    }
   ],
   "source": [
    "plt.figure(figsize=(8, 5))\n",
    "sns.countplot(x='spam', data=df)\n",
    "plt.title('Spam vs Not Spam Distribution')\n",
    "plt.show()\n",
    "print(df['spam'].value_counts())"
   ]
  },
  {
   "cell_type": "code",
   "execution_count": 23,
   "metadata": {
    "execution": {
     "iopub.execute_input": "2025-01-04T18:11:05.440957Z",
     "iopub.status.busy": "2025-01-04T18:11:05.440603Z",
     "iopub.status.idle": "2025-01-04T18:11:07.144256Z",
     "shell.execute_reply": "2025-01-04T18:11:07.143390Z",
     "shell.execute_reply.started": "2025-01-04T18:11:05.440931Z"
    },
    "trusted": true
   },
   "outputs": [
    {
     "name": "stderr",
     "output_type": "stream",
     "text": [
      "[nltk_data] Downloading package stopwords to\n",
      "[nltk_data]     C:\\Users\\karan\\AppData\\Roaming\\nltk_data...\n",
      "[nltk_data]   Package stopwords is already up-to-date!\n",
      "[nltk_data] Downloading package punkt to\n",
      "[nltk_data]     C:\\Users\\karan\\AppData\\Roaming\\nltk_data...\n",
      "[nltk_data]   Package punkt is already up-to-date!\n",
      "[nltk_data] Downloading package punkt_tab to\n",
      "[nltk_data]     C:\\Users\\karan\\AppData\\Roaming\\nltk_data...\n",
      "[nltk_data]   Unzipping tokenizers\\punkt_tab.zip.\n"
     ]
    },
    {
     "data": {
      "text/plain": [
       "True"
      ]
     },
     "execution_count": 23,
     "metadata": {},
     "output_type": "execute_result"
    }
   ],
   "source": [
    "import nltk\n",
    "from nltk.corpus import stopwords\n",
    "from nltk.tokenize import word_tokenize\n",
    "from nltk.stem.porter import PorterStemmer\n",
    "import string\n",
    "\n",
    "ps = PorterStemmer()\n",
    "\n",
    "nltk.download('stopwords')\n",
    "nltk.download('punkt')\n",
    "nltk.download('punkt_tab')"
   ]
  },
  {
   "cell_type": "code",
   "execution_count": 16,
   "metadata": {
    "execution": {
     "iopub.execute_input": "2025-01-04T18:18:32.873885Z",
     "iopub.status.busy": "2025-01-04T18:18:32.873574Z",
     "iopub.status.idle": "2025-01-04T18:18:32.886045Z",
     "shell.execute_reply": "2025-01-04T18:18:32.885035Z",
     "shell.execute_reply.started": "2025-01-04T18:18:32.873862Z"
    },
    "trusted": true
   },
   "outputs": [
    {
     "name": "stderr",
     "output_type": "stream",
     "text": [
      "C:\\Users\\karan\\AppData\\Local\\Temp\\ipykernel_7692\\1237944450.py:1: SettingWithCopyWarning: \n",
      "A value is trying to be set on a copy of a slice from a DataFrame.\n",
      "Try using .loc[row_indexer,col_indexer] = value instead\n",
      "\n",
      "See the caveats in the documentation: https://pandas.pydata.org/pandas-docs/stable/user_guide/indexing.html#returning-a-view-versus-a-copy\n",
      "  df.loc[:, 'num_characters'] = df['text'].apply(len)\n"
     ]
    },
    {
     "data": {
      "text/html": [
       "<div>\n",
       "<style scoped>\n",
       "    .dataframe tbody tr th:only-of-type {\n",
       "        vertical-align: middle;\n",
       "    }\n",
       "\n",
       "    .dataframe tbody tr th {\n",
       "        vertical-align: top;\n",
       "    }\n",
       "\n",
       "    .dataframe thead th {\n",
       "        text-align: right;\n",
       "    }\n",
       "</style>\n",
       "<table border=\"1\" class=\"dataframe\">\n",
       "  <thead>\n",
       "    <tr style=\"text-align: right;\">\n",
       "      <th></th>\n",
       "      <th>text</th>\n",
       "      <th>spam</th>\n",
       "      <th>num_characters</th>\n",
       "    </tr>\n",
       "  </thead>\n",
       "  <tbody>\n",
       "    <tr>\n",
       "      <th>0</th>\n",
       "      <td>Subject: re : energy derivatives conference - ...</td>\n",
       "      <td>0</td>\n",
       "      <td>2000</td>\n",
       "    </tr>\n",
       "    <tr>\n",
       "      <th>1</th>\n",
       "      <td>Subject: financial maths course , part 2  vinc...</td>\n",
       "      <td>0</td>\n",
       "      <td>148</td>\n",
       "    </tr>\n",
       "    <tr>\n",
       "      <th>2</th>\n",
       "      <td>Subject: re : bullet points  please respond to...</td>\n",
       "      <td>0</td>\n",
       "      <td>760</td>\n",
       "    </tr>\n",
       "    <tr>\n",
       "      <th>3</th>\n",
       "      <td>Subject: re : enron default swaps  darrell ,  ...</td>\n",
       "      <td>0</td>\n",
       "      <td>1098</td>\n",
       "    </tr>\n",
       "    <tr>\n",
       "      <th>4</th>\n",
       "      <td>Subject: re : power question  steve ,  elena c...</td>\n",
       "      <td>0</td>\n",
       "      <td>745</td>\n",
       "    </tr>\n",
       "  </tbody>\n",
       "</table>\n",
       "</div>"
      ],
      "text/plain": [
       "                                                text  spam  num_characters\n",
       "0  Subject: re : energy derivatives conference - ...     0            2000\n",
       "1  Subject: financial maths course , part 2  vinc...     0             148\n",
       "2  Subject: re : bullet points  please respond to...     0             760\n",
       "3  Subject: re : enron default swaps  darrell ,  ...     0            1098\n",
       "4  Subject: re : power question  steve ,  elena c...     0             745"
      ]
     },
     "execution_count": 16,
     "metadata": {},
     "output_type": "execute_result"
    }
   ],
   "source": [
    "df.loc[:, 'num_characters'] = df['text'].apply(len)\n",
    "df.head()"
   ]
  },
  {
   "cell_type": "code",
   "execution_count": 24,
   "metadata": {
    "execution": {
     "iopub.execute_input": "2025-01-04T18:18:43.129525Z",
     "iopub.status.busy": "2025-01-04T18:18:43.129204Z",
     "iopub.status.idle": "2025-01-04T18:18:54.652262Z",
     "shell.execute_reply": "2025-01-04T18:18:54.651375Z",
     "shell.execute_reply.started": "2025-01-04T18:18:43.129501Z"
    },
    "trusted": true
   },
   "outputs": [
    {
     "name": "stderr",
     "output_type": "stream",
     "text": [
      "C:\\Users\\karan\\AppData\\Local\\Temp\\ipykernel_7692\\3906747489.py:1: SettingWithCopyWarning: \n",
      "A value is trying to be set on a copy of a slice from a DataFrame.\n",
      "Try using .loc[row_indexer,col_indexer] = value instead\n",
      "\n",
      "See the caveats in the documentation: https://pandas.pydata.org/pandas-docs/stable/user_guide/indexing.html#returning-a-view-versus-a-copy\n",
      "  df.loc[:, 'num_words'] = df['text'].apply(lambda x :len(nltk.word_tokenize(x)))\n"
     ]
    },
    {
     "data": {
      "text/html": [
       "<div>\n",
       "<style scoped>\n",
       "    .dataframe tbody tr th:only-of-type {\n",
       "        vertical-align: middle;\n",
       "    }\n",
       "\n",
       "    .dataframe tbody tr th {\n",
       "        vertical-align: top;\n",
       "    }\n",
       "\n",
       "    .dataframe thead th {\n",
       "        text-align: right;\n",
       "    }\n",
       "</style>\n",
       "<table border=\"1\" class=\"dataframe\">\n",
       "  <thead>\n",
       "    <tr style=\"text-align: right;\">\n",
       "      <th></th>\n",
       "      <th>text</th>\n",
       "      <th>spam</th>\n",
       "      <th>num_characters</th>\n",
       "      <th>num_words</th>\n",
       "    </tr>\n",
       "  </thead>\n",
       "  <tbody>\n",
       "    <tr>\n",
       "      <th>0</th>\n",
       "      <td>Subject: re : energy derivatives conference - ...</td>\n",
       "      <td>0</td>\n",
       "      <td>2000</td>\n",
       "      <td>459</td>\n",
       "    </tr>\n",
       "    <tr>\n",
       "      <th>1</th>\n",
       "      <td>Subject: financial maths course , part 2  vinc...</td>\n",
       "      <td>0</td>\n",
       "      <td>148</td>\n",
       "      <td>33</td>\n",
       "    </tr>\n",
       "    <tr>\n",
       "      <th>2</th>\n",
       "      <td>Subject: re : bullet points  please respond to...</td>\n",
       "      <td>0</td>\n",
       "      <td>760</td>\n",
       "      <td>167</td>\n",
       "    </tr>\n",
       "    <tr>\n",
       "      <th>3</th>\n",
       "      <td>Subject: re : enron default swaps  darrell ,  ...</td>\n",
       "      <td>0</td>\n",
       "      <td>1098</td>\n",
       "      <td>222</td>\n",
       "    </tr>\n",
       "    <tr>\n",
       "      <th>4</th>\n",
       "      <td>Subject: re : power question  steve ,  elena c...</td>\n",
       "      <td>0</td>\n",
       "      <td>745</td>\n",
       "      <td>146</td>\n",
       "    </tr>\n",
       "  </tbody>\n",
       "</table>\n",
       "</div>"
      ],
      "text/plain": [
       "                                                text  spam  num_characters  \\\n",
       "0  Subject: re : energy derivatives conference - ...     0            2000   \n",
       "1  Subject: financial maths course , part 2  vinc...     0             148   \n",
       "2  Subject: re : bullet points  please respond to...     0             760   \n",
       "3  Subject: re : enron default swaps  darrell ,  ...     0            1098   \n",
       "4  Subject: re : power question  steve ,  elena c...     0             745   \n",
       "\n",
       "   num_words  \n",
       "0        459  \n",
       "1         33  \n",
       "2        167  \n",
       "3        222  \n",
       "4        146  "
      ]
     },
     "execution_count": 24,
     "metadata": {},
     "output_type": "execute_result"
    }
   ],
   "source": [
    "df.loc[:, 'num_words'] = df['text'].apply(lambda x :len(nltk.word_tokenize(x)))\n",
    "df.head()"
   ]
  },
  {
   "cell_type": "code",
   "execution_count": 25,
   "metadata": {
    "execution": {
     "iopub.execute_input": "2025-01-04T18:19:02.791083Z",
     "iopub.status.busy": "2025-01-04T18:19:02.790758Z",
     "iopub.status.idle": "2025-01-04T18:19:04.882979Z",
     "shell.execute_reply": "2025-01-04T18:19:04.882072Z",
     "shell.execute_reply.started": "2025-01-04T18:19:02.791055Z"
    },
    "trusted": true
   },
   "outputs": [
    {
     "name": "stderr",
     "output_type": "stream",
     "text": [
      "C:\\Users\\karan\\AppData\\Local\\Temp\\ipykernel_7692\\826803682.py:1: SettingWithCopyWarning: \n",
      "A value is trying to be set on a copy of a slice from a DataFrame.\n",
      "Try using .loc[row_indexer,col_indexer] = value instead\n",
      "\n",
      "See the caveats in the documentation: https://pandas.pydata.org/pandas-docs/stable/user_guide/indexing.html#returning-a-view-versus-a-copy\n",
      "  df.loc[:, 'num_sentences'] = df['text'].apply(lambda x: len(nltk.sent_tokenize(x)))\n"
     ]
    },
    {
     "data": {
      "text/html": [
       "<div>\n",
       "<style scoped>\n",
       "    .dataframe tbody tr th:only-of-type {\n",
       "        vertical-align: middle;\n",
       "    }\n",
       "\n",
       "    .dataframe tbody tr th {\n",
       "        vertical-align: top;\n",
       "    }\n",
       "\n",
       "    .dataframe thead th {\n",
       "        text-align: right;\n",
       "    }\n",
       "</style>\n",
       "<table border=\"1\" class=\"dataframe\">\n",
       "  <thead>\n",
       "    <tr style=\"text-align: right;\">\n",
       "      <th></th>\n",
       "      <th>text</th>\n",
       "      <th>spam</th>\n",
       "      <th>num_characters</th>\n",
       "      <th>num_words</th>\n",
       "      <th>num_sentences</th>\n",
       "    </tr>\n",
       "  </thead>\n",
       "  <tbody>\n",
       "    <tr>\n",
       "      <th>0</th>\n",
       "      <td>Subject: re : energy derivatives conference - ...</td>\n",
       "      <td>0</td>\n",
       "      <td>2000</td>\n",
       "      <td>459</td>\n",
       "      <td>23</td>\n",
       "    </tr>\n",
       "    <tr>\n",
       "      <th>1</th>\n",
       "      <td>Subject: financial maths course , part 2  vinc...</td>\n",
       "      <td>0</td>\n",
       "      <td>148</td>\n",
       "      <td>33</td>\n",
       "      <td>3</td>\n",
       "    </tr>\n",
       "    <tr>\n",
       "      <th>2</th>\n",
       "      <td>Subject: re : bullet points  please respond to...</td>\n",
       "      <td>0</td>\n",
       "      <td>760</td>\n",
       "      <td>167</td>\n",
       "      <td>19</td>\n",
       "    </tr>\n",
       "    <tr>\n",
       "      <th>3</th>\n",
       "      <td>Subject: re : enron default swaps  darrell ,  ...</td>\n",
       "      <td>0</td>\n",
       "      <td>1098</td>\n",
       "      <td>222</td>\n",
       "      <td>13</td>\n",
       "    </tr>\n",
       "    <tr>\n",
       "      <th>4</th>\n",
       "      <td>Subject: re : power question  steve ,  elena c...</td>\n",
       "      <td>0</td>\n",
       "      <td>745</td>\n",
       "      <td>146</td>\n",
       "      <td>7</td>\n",
       "    </tr>\n",
       "  </tbody>\n",
       "</table>\n",
       "</div>"
      ],
      "text/plain": [
       "                                                text  spam  num_characters  \\\n",
       "0  Subject: re : energy derivatives conference - ...     0            2000   \n",
       "1  Subject: financial maths course , part 2  vinc...     0             148   \n",
       "2  Subject: re : bullet points  please respond to...     0             760   \n",
       "3  Subject: re : enron default swaps  darrell ,  ...     0            1098   \n",
       "4  Subject: re : power question  steve ,  elena c...     0             745   \n",
       "\n",
       "   num_words  num_sentences  \n",
       "0        459             23  \n",
       "1         33              3  \n",
       "2        167             19  \n",
       "3        222             13  \n",
       "4        146              7  "
      ]
     },
     "execution_count": 25,
     "metadata": {},
     "output_type": "execute_result"
    }
   ],
   "source": [
    "df.loc[:, 'num_sentences'] = df['text'].apply(lambda x: len(nltk.sent_tokenize(x)))\n",
    "df.head()"
   ]
  },
  {
   "cell_type": "code",
   "execution_count": 26,
   "metadata": {
    "execution": {
     "iopub.execute_input": "2025-01-04T18:11:20.407917Z",
     "iopub.status.busy": "2025-01-04T18:11:20.407579Z",
     "iopub.status.idle": "2025-01-04T18:11:20.427661Z",
     "shell.execute_reply": "2025-01-04T18:11:20.426833Z",
     "shell.execute_reply.started": "2025-01-04T18:11:20.407886Z"
    },
    "trusted": true
   },
   "outputs": [
    {
     "data": {
      "text/html": [
       "<div>\n",
       "<style scoped>\n",
       "    .dataframe tbody tr th:only-of-type {\n",
       "        vertical-align: middle;\n",
       "    }\n",
       "\n",
       "    .dataframe tbody tr th {\n",
       "        vertical-align: top;\n",
       "    }\n",
       "\n",
       "    .dataframe thead th {\n",
       "        text-align: right;\n",
       "    }\n",
       "</style>\n",
       "<table border=\"1\" class=\"dataframe\">\n",
       "  <thead>\n",
       "    <tr style=\"text-align: right;\">\n",
       "      <th></th>\n",
       "      <th>num_characters</th>\n",
       "      <th>num_words</th>\n",
       "      <th>num_sentences</th>\n",
       "    </tr>\n",
       "  </thead>\n",
       "  <tbody>\n",
       "    <tr>\n",
       "      <th>count</th>\n",
       "      <td>5695.000000</td>\n",
       "      <td>5695.000000</td>\n",
       "      <td>5695.000000</td>\n",
       "    </tr>\n",
       "    <tr>\n",
       "      <th>mean</th>\n",
       "      <td>1558.067076</td>\n",
       "      <td>328.214047</td>\n",
       "      <td>19.462511</td>\n",
       "    </tr>\n",
       "    <tr>\n",
       "      <th>std</th>\n",
       "      <td>2047.078711</td>\n",
       "      <td>419.654234</td>\n",
       "      <td>35.981993</td>\n",
       "    </tr>\n",
       "    <tr>\n",
       "      <th>min</th>\n",
       "      <td>13.000000</td>\n",
       "      <td>3.000000</td>\n",
       "      <td>1.000000</td>\n",
       "    </tr>\n",
       "    <tr>\n",
       "      <th>25%</th>\n",
       "      <td>508.500000</td>\n",
       "      <td>102.000000</td>\n",
       "      <td>7.000000</td>\n",
       "    </tr>\n",
       "    <tr>\n",
       "      <th>50%</th>\n",
       "      <td>979.000000</td>\n",
       "      <td>211.000000</td>\n",
       "      <td>12.000000</td>\n",
       "    </tr>\n",
       "    <tr>\n",
       "      <th>75%</th>\n",
       "      <td>1893.000000</td>\n",
       "      <td>403.000000</td>\n",
       "      <td>22.000000</td>\n",
       "    </tr>\n",
       "    <tr>\n",
       "      <th>max</th>\n",
       "      <td>43952.000000</td>\n",
       "      <td>8479.000000</td>\n",
       "      <td>1565.000000</td>\n",
       "    </tr>\n",
       "  </tbody>\n",
       "</table>\n",
       "</div>"
      ],
      "text/plain": [
       "       num_characters    num_words  num_sentences\n",
       "count     5695.000000  5695.000000    5695.000000\n",
       "mean      1558.067076   328.214047      19.462511\n",
       "std       2047.078711   419.654234      35.981993\n",
       "min         13.000000     3.000000       1.000000\n",
       "25%        508.500000   102.000000       7.000000\n",
       "50%        979.000000   211.000000      12.000000\n",
       "75%       1893.000000   403.000000      22.000000\n",
       "max      43952.000000  8479.000000    1565.000000"
      ]
     },
     "execution_count": 26,
     "metadata": {},
     "output_type": "execute_result"
    }
   ],
   "source": [
    "df[['num_characters','num_words','num_sentences']].describe()"
   ]
  },
  {
   "cell_type": "markdown",
   "metadata": {},
   "source": [
    "# **Step 3: Data Preprocessing**\n",
    "* Lower case\n",
    "* Tokenization\n",
    "* Remove special characters\n",
    "* Remove stop words and punctuation"
   ]
  },
  {
   "cell_type": "code",
   "execution_count": 27,
   "metadata": {
    "execution": {
     "iopub.execute_input": "2025-01-04T18:11:20.428737Z",
     "iopub.status.busy": "2025-01-04T18:11:20.428474Z",
     "iopub.status.idle": "2025-01-04T18:11:20.433215Z",
     "shell.execute_reply": "2025-01-04T18:11:20.432370Z",
     "shell.execute_reply.started": "2025-01-04T18:11:20.428716Z"
    },
    "trusted": true
   },
   "outputs": [],
   "source": [
    "def preprocess_text(text):\n",
    "    # Tokenize the text, convert to lowercase, and remove non-alphanumeric tokens\n",
    "    tokens = [word for word in nltk.word_tokenize(text.lower()) if word.isalnum()]\n",
    "    \n",
    "    # Remove stopwords and punctuation\n",
    "    stop_words = set(stopwords.words('english'))\n",
    "    tokens = [word for word in tokens if word not in stop_words and word not in string.punctuation]\n",
    "\n",
    "    # Apply stemming to each token\n",
    "    # tokens = [ps.stem(word) for word in tokens]\n",
    "    \n",
    "    # Return the processed text as a string\n",
    "    return \" \".join(tokens)"
   ]
  },
  {
   "cell_type": "markdown",
   "metadata": {},
   "source": [
    "# **Test preprocess_text function**"
   ]
  },
  {
   "cell_type": "code",
   "execution_count": 28,
   "metadata": {
    "execution": {
     "iopub.execute_input": "2025-01-04T18:11:20.434597Z",
     "iopub.status.busy": "2025-01-04T18:11:20.434263Z",
     "iopub.status.idle": "2025-01-04T18:11:20.451723Z",
     "shell.execute_reply": "2025-01-04T18:11:20.451024Z",
     "shell.execute_reply.started": "2025-01-04T18:11:20.434568Z"
    },
    "trusted": true
   },
   "outputs": [
    {
     "data": {
      "text/plain": [
       "'hi self karan khatri currently persuing bachelors techonology nirma university'"
      ]
     },
     "execution_count": 28,
     "metadata": {},
     "output_type": "execute_result"
    }
   ],
   "source": [
    "preprocess_text('Hi! My self Karan Khatri and currently I am persuing Bachelors of techonology from nirma university.')"
   ]
  },
  {
   "cell_type": "code",
   "execution_count": 29,
   "metadata": {
    "execution": {
     "iopub.execute_input": "2025-01-04T18:19:15.266455Z",
     "iopub.status.busy": "2025-01-04T18:19:15.266102Z",
     "iopub.status.idle": "2025-01-04T18:19:27.860817Z",
     "shell.execute_reply": "2025-01-04T18:19:27.859962Z",
     "shell.execute_reply.started": "2025-01-04T18:19:15.266426Z"
    },
    "trusted": true
   },
   "outputs": [
    {
     "name": "stderr",
     "output_type": "stream",
     "text": [
      "C:\\Users\\karan\\AppData\\Local\\Temp\\ipykernel_7692\\3612720902.py:1: SettingWithCopyWarning: \n",
      "A value is trying to be set on a copy of a slice from a DataFrame.\n",
      "Try using .loc[row_indexer,col_indexer] = value instead\n",
      "\n",
      "See the caveats in the documentation: https://pandas.pydata.org/pandas-docs/stable/user_guide/indexing.html#returning-a-view-versus-a-copy\n",
      "  df.loc[:, 'processed_text']=df['text'].apply(preprocess_text)\n"
     ]
    },
    {
     "data": {
      "text/html": [
       "<div>\n",
       "<style scoped>\n",
       "    .dataframe tbody tr th:only-of-type {\n",
       "        vertical-align: middle;\n",
       "    }\n",
       "\n",
       "    .dataframe tbody tr th {\n",
       "        vertical-align: top;\n",
       "    }\n",
       "\n",
       "    .dataframe thead th {\n",
       "        text-align: right;\n",
       "    }\n",
       "</style>\n",
       "<table border=\"1\" class=\"dataframe\">\n",
       "  <thead>\n",
       "    <tr style=\"text-align: right;\">\n",
       "      <th></th>\n",
       "      <th>text</th>\n",
       "      <th>spam</th>\n",
       "      <th>num_characters</th>\n",
       "      <th>num_words</th>\n",
       "      <th>num_sentences</th>\n",
       "      <th>processed_text</th>\n",
       "    </tr>\n",
       "  </thead>\n",
       "  <tbody>\n",
       "    <tr>\n",
       "      <th>0</th>\n",
       "      <td>Subject: re : energy derivatives conference - ...</td>\n",
       "      <td>0</td>\n",
       "      <td>2000</td>\n",
       "      <td>459</td>\n",
       "      <td>23</td>\n",
       "      <td>subject energy derivatives conference may 29 t...</td>\n",
       "    </tr>\n",
       "    <tr>\n",
       "      <th>1</th>\n",
       "      <td>Subject: financial maths course , part 2  vinc...</td>\n",
       "      <td>0</td>\n",
       "      <td>148</td>\n",
       "      <td>33</td>\n",
       "      <td>3</td>\n",
       "      <td>subject financial maths course part 2 vince ca...</td>\n",
       "    </tr>\n",
       "    <tr>\n",
       "      <th>2</th>\n",
       "      <td>Subject: re : bullet points  please respond to...</td>\n",
       "      <td>0</td>\n",
       "      <td>760</td>\n",
       "      <td>167</td>\n",
       "      <td>19</td>\n",
       "      <td>subject bullet points please respond hi vince ...</td>\n",
       "    </tr>\n",
       "    <tr>\n",
       "      <th>3</th>\n",
       "      <td>Subject: re : enron default swaps  darrell ,  ...</td>\n",
       "      <td>0</td>\n",
       "      <td>1098</td>\n",
       "      <td>222</td>\n",
       "      <td>13</td>\n",
       "      <td>subject enron default swaps darrell sending 2 ...</td>\n",
       "    </tr>\n",
       "    <tr>\n",
       "      <th>4</th>\n",
       "      <td>Subject: re : power question  steve ,  elena c...</td>\n",
       "      <td>0</td>\n",
       "      <td>745</td>\n",
       "      <td>146</td>\n",
       "      <td>7</td>\n",
       "      <td>subject power question steve elena chilkina gi...</td>\n",
       "    </tr>\n",
       "  </tbody>\n",
       "</table>\n",
       "</div>"
      ],
      "text/plain": [
       "                                                text  spam  num_characters  \\\n",
       "0  Subject: re : energy derivatives conference - ...     0            2000   \n",
       "1  Subject: financial maths course , part 2  vinc...     0             148   \n",
       "2  Subject: re : bullet points  please respond to...     0             760   \n",
       "3  Subject: re : enron default swaps  darrell ,  ...     0            1098   \n",
       "4  Subject: re : power question  steve ,  elena c...     0             745   \n",
       "\n",
       "   num_words  num_sentences                                     processed_text  \n",
       "0        459             23  subject energy derivatives conference may 29 t...  \n",
       "1         33              3  subject financial maths course part 2 vince ca...  \n",
       "2        167             19  subject bullet points please respond hi vince ...  \n",
       "3        222             13  subject enron default swaps darrell sending 2 ...  \n",
       "4        146              7  subject power question steve elena chilkina gi...  "
      ]
     },
     "execution_count": 29,
     "metadata": {},
     "output_type": "execute_result"
    }
   ],
   "source": [
    "df.loc[:, 'processed_text']=df['text'].apply(preprocess_text)\n",
    "df.head()"
   ]
  },
  {
   "cell_type": "code",
   "execution_count": 30,
   "metadata": {
    "execution": {
     "iopub.execute_input": "2025-01-04T18:38:32.697857Z",
     "iopub.status.busy": "2025-01-04T18:38:32.697519Z",
     "iopub.status.idle": "2025-01-04T18:38:32.707180Z",
     "shell.execute_reply": "2025-01-04T18:38:32.706275Z",
     "shell.execute_reply.started": "2025-01-04T18:38:32.697830Z"
    },
    "trusted": true
   },
   "outputs": [
    {
     "data": {
      "text/html": [
       "<div>\n",
       "<style scoped>\n",
       "    .dataframe tbody tr th:only-of-type {\n",
       "        vertical-align: middle;\n",
       "    }\n",
       "\n",
       "    .dataframe tbody tr th {\n",
       "        vertical-align: top;\n",
       "    }\n",
       "\n",
       "    .dataframe thead th {\n",
       "        text-align: right;\n",
       "    }\n",
       "</style>\n",
       "<table border=\"1\" class=\"dataframe\">\n",
       "  <thead>\n",
       "    <tr style=\"text-align: right;\">\n",
       "      <th></th>\n",
       "      <th>text</th>\n",
       "      <th>spam</th>\n",
       "      <th>num_characters</th>\n",
       "      <th>num_words</th>\n",
       "      <th>num_sentences</th>\n",
       "      <th>processed_text</th>\n",
       "      <th>num_processed_text_words</th>\n",
       "    </tr>\n",
       "  </thead>\n",
       "  <tbody>\n",
       "    <tr>\n",
       "      <th>0</th>\n",
       "      <td>Subject: re : energy derivatives conference - ...</td>\n",
       "      <td>0</td>\n",
       "      <td>2000</td>\n",
       "      <td>459</td>\n",
       "      <td>23</td>\n",
       "      <td>subject energy derivatives conference may 29 t...</td>\n",
       "      <td>187</td>\n",
       "    </tr>\n",
       "    <tr>\n",
       "      <th>1</th>\n",
       "      <td>Subject: financial maths course , part 2  vinc...</td>\n",
       "      <td>0</td>\n",
       "      <td>148</td>\n",
       "      <td>33</td>\n",
       "      <td>3</td>\n",
       "      <td>subject financial maths course part 2 vince ca...</td>\n",
       "      <td>15</td>\n",
       "    </tr>\n",
       "    <tr>\n",
       "      <th>2</th>\n",
       "      <td>Subject: re : bullet points  please respond to...</td>\n",
       "      <td>0</td>\n",
       "      <td>760</td>\n",
       "      <td>167</td>\n",
       "      <td>19</td>\n",
       "      <td>subject bullet points please respond hi vince ...</td>\n",
       "      <td>80</td>\n",
       "    </tr>\n",
       "    <tr>\n",
       "      <th>3</th>\n",
       "      <td>Subject: re : enron default swaps  darrell ,  ...</td>\n",
       "      <td>0</td>\n",
       "      <td>1098</td>\n",
       "      <td>222</td>\n",
       "      <td>13</td>\n",
       "      <td>subject enron default swaps darrell sending 2 ...</td>\n",
       "      <td>119</td>\n",
       "    </tr>\n",
       "    <tr>\n",
       "      <th>4</th>\n",
       "      <td>Subject: re : power question  steve ,  elena c...</td>\n",
       "      <td>0</td>\n",
       "      <td>745</td>\n",
       "      <td>146</td>\n",
       "      <td>7</td>\n",
       "      <td>subject power question steve elena chilkina gi...</td>\n",
       "      <td>77</td>\n",
       "    </tr>\n",
       "  </tbody>\n",
       "</table>\n",
       "</div>"
      ],
      "text/plain": [
       "                                                text  spam  num_characters  \\\n",
       "0  Subject: re : energy derivatives conference - ...     0            2000   \n",
       "1  Subject: financial maths course , part 2  vinc...     0             148   \n",
       "2  Subject: re : bullet points  please respond to...     0             760   \n",
       "3  Subject: re : enron default swaps  darrell ,  ...     0            1098   \n",
       "4  Subject: re : power question  steve ,  elena c...     0             745   \n",
       "\n",
       "   num_words  num_sentences  \\\n",
       "0        459             23   \n",
       "1         33              3   \n",
       "2        167             19   \n",
       "3        222             13   \n",
       "4        146              7   \n",
       "\n",
       "                                      processed_text  num_processed_text_words  \n",
       "0  subject energy derivatives conference may 29 t...                       187  \n",
       "1  subject financial maths course part 2 vince ca...                        15  \n",
       "2  subject bullet points please respond hi vince ...                        80  \n",
       "3  subject enron default swaps darrell sending 2 ...                       119  \n",
       "4  subject power question steve elena chilkina gi...                        77  "
      ]
     },
     "execution_count": 30,
     "metadata": {},
     "output_type": "execute_result"
    }
   ],
   "source": [
    "df = df.assign(num_processed_text_words=df['processed_text'].apply(lambda x: len(nltk.word_tokenize(x))))\n",
    "df.head()"
   ]
  },
  {
   "cell_type": "code",
   "execution_count": 31,
   "metadata": {
    "execution": {
     "iopub.execute_input": "2025-01-04T18:37:40.590532Z",
     "iopub.status.busy": "2025-01-04T18:37:40.590179Z",
     "iopub.status.idle": "2025-01-04T18:37:40.601840Z",
     "shell.execute_reply": "2025-01-04T18:37:40.601081Z",
     "shell.execute_reply.started": "2025-01-04T18:37:40.590504Z"
    },
    "trusted": true
   },
   "outputs": [
    {
     "data": {
      "text/html": [
       "<div>\n",
       "<style scoped>\n",
       "    .dataframe tbody tr th:only-of-type {\n",
       "        vertical-align: middle;\n",
       "    }\n",
       "\n",
       "    .dataframe tbody tr th {\n",
       "        vertical-align: top;\n",
       "    }\n",
       "\n",
       "    .dataframe thead th {\n",
       "        text-align: right;\n",
       "    }\n",
       "</style>\n",
       "<table border=\"1\" class=\"dataframe\">\n",
       "  <thead>\n",
       "    <tr style=\"text-align: right;\">\n",
       "      <th></th>\n",
       "      <th>num_processed_text_words</th>\n",
       "    </tr>\n",
       "  </thead>\n",
       "  <tbody>\n",
       "    <tr>\n",
       "      <th>count</th>\n",
       "      <td>5695.000000</td>\n",
       "    </tr>\n",
       "    <tr>\n",
       "      <th>mean</th>\n",
       "      <td>154.103775</td>\n",
       "    </tr>\n",
       "    <tr>\n",
       "      <th>std</th>\n",
       "      <td>199.011145</td>\n",
       "    </tr>\n",
       "    <tr>\n",
       "      <th>min</th>\n",
       "      <td>2.000000</td>\n",
       "    </tr>\n",
       "    <tr>\n",
       "      <th>25%</th>\n",
       "      <td>52.500000</td>\n",
       "    </tr>\n",
       "    <tr>\n",
       "      <th>50%</th>\n",
       "      <td>99.000000</td>\n",
       "    </tr>\n",
       "    <tr>\n",
       "      <th>75%</th>\n",
       "      <td>187.000000</td>\n",
       "    </tr>\n",
       "    <tr>\n",
       "      <th>max</th>\n",
       "      <td>4330.000000</td>\n",
       "    </tr>\n",
       "  </tbody>\n",
       "</table>\n",
       "</div>"
      ],
      "text/plain": [
       "       num_processed_text_words\n",
       "count               5695.000000\n",
       "mean                 154.103775\n",
       "std                  199.011145\n",
       "min                    2.000000\n",
       "25%                   52.500000\n",
       "50%                   99.000000\n",
       "75%                  187.000000\n",
       "max                 4330.000000"
      ]
     },
     "execution_count": 31,
     "metadata": {},
     "output_type": "execute_result"
    }
   ],
   "source": [
    "df[['num_processed_text_words']].describe()"
   ]
  },
  {
   "cell_type": "code",
   "execution_count": 40,
   "metadata": {
    "execution": {
     "iopub.execute_input": "2025-01-04T18:50:42.204571Z",
     "iopub.status.busy": "2025-01-04T18:50:42.204208Z",
     "iopub.status.idle": "2025-01-04T18:50:42.208796Z",
     "shell.execute_reply": "2025-01-04T18:50:42.207919Z",
     "shell.execute_reply.started": "2025-01-04T18:50:42.204543Z"
    },
    "trusted": true
   },
   "outputs": [],
   "source": [
    "from sklearn.feature_extraction.text import TfidfVectorizer\n",
    "\n",
    "# Tokenization\n",
    "def prepare_text_data(data):\n",
    "    tfidf = TfidfVectorizer(max_features=5000)\n",
    "    X = tfidf.fit_transform(data['processed_text']).toarray()\n",
    "    y = data['spam'].values\n",
    "    return X, y, tfidf"
   ]
  },
  {
   "cell_type": "code",
   "execution_count": 41,
   "metadata": {
    "execution": {
     "iopub.execute_input": "2025-01-04T18:50:54.703084Z",
     "iopub.status.busy": "2025-01-04T18:50:54.702781Z",
     "iopub.status.idle": "2025-01-04T18:50:55.658873Z",
     "shell.execute_reply": "2025-01-04T18:50:55.657863Z",
     "shell.execute_reply.started": "2025-01-04T18:50:54.703058Z"
    },
    "trusted": true
   },
   "outputs": [],
   "source": [
    "X, y, tfidf_vectorizer = prepare_text_data(df)"
   ]
  },
  {
   "cell_type": "code",
   "execution_count": 34,
   "metadata": {
    "execution": {
     "iopub.execute_input": "2025-01-04T18:39:30.089984Z",
     "iopub.status.busy": "2025-01-04T18:39:30.089678Z",
     "iopub.status.idle": "2025-01-04T18:39:30.169324Z",
     "shell.execute_reply": "2025-01-04T18:39:30.168411Z",
     "shell.execute_reply.started": "2025-01-04T18:39:30.089959Z"
    },
    "trusted": true
   },
   "outputs": [],
   "source": [
    "from sklearn.model_selection import train_test_split\n",
    "\n",
    "X_train, X_test, y_train, y_test = train_test_split(X, y, test_size=0.3, random_state=42)"
   ]
  },
  {
   "cell_type": "code",
   "execution_count": 35,
   "metadata": {
    "execution": {
     "iopub.execute_input": "2025-01-04T18:39:30.648611Z",
     "iopub.status.busy": "2025-01-04T18:39:30.648233Z",
     "iopub.status.idle": "2025-01-04T18:39:30.652523Z",
     "shell.execute_reply": "2025-01-04T18:39:30.651594Z",
     "shell.execute_reply.started": "2025-01-04T18:39:30.648582Z"
    },
    "trusted": true
   },
   "outputs": [],
   "source": [
    "from sklearn.svm import SVC\n",
    "from sklearn.metrics import accuracy_score, precision_score, recall_score, f1_score, confusion_matrix, roc_curve, auc"
   ]
  },
  {
   "cell_type": "code",
   "execution_count": 36,
   "metadata": {
    "execution": {
     "iopub.execute_input": "2025-01-04T18:42:34.153923Z",
     "iopub.status.busy": "2025-01-04T18:42:34.153614Z",
     "iopub.status.idle": "2025-01-04T18:43:42.611879Z",
     "shell.execute_reply": "2025-01-04T18:43:42.611132Z",
     "shell.execute_reply.started": "2025-01-04T18:42:34.153899Z"
    },
    "trusted": true
   },
   "outputs": [],
   "source": [
    "# Initializing the SVM model\n",
    "svm_model = SVC(kernel='linear', probability=True)\n",
    "\n",
    "# Training the model\n",
    "svm_model.fit(X_train, y_train)\n",
    "\n",
    "# Predicting the test set results\n",
    "y_pred = svm_model.predict(X_test)\n"
   ]
  },
  {
   "cell_type": "code",
   "execution_count": 37,
   "metadata": {
    "execution": {
     "iopub.execute_input": "2025-01-04T18:43:42.613022Z",
     "iopub.status.busy": "2025-01-04T18:43:42.612817Z",
     "iopub.status.idle": "2025-01-04T18:43:46.707122Z",
     "shell.execute_reply": "2025-01-04T18:43:46.705971Z",
     "shell.execute_reply.started": "2025-01-04T18:43:42.613004Z"
    },
    "trusted": true
   },
   "outputs": [
    {
     "name": "stdout",
     "output_type": "stream",
     "text": [
      "Accuracy: 99.3563\n",
      "Precision: 98.8010\n",
      "Recall: 98.5646\n",
      "F1 Score: 98.6826\n",
      "Confusion Matrix:\n",
      "[[1286    5]\n",
      " [   6  412]]\n"
     ]
    },
    {
     "data": {
      "image/png": "[encoded data removed]",
      "text/plain": [
       "<Figure size 600x600 with 2 Axes>"
      ]
     },
     "metadata": {},
     "output_type": "display_data"
    },
    {
     "data": {
      "image/png": "[encoded data removed]",
      "text/plain": [
       "<Figure size 800x600 with 1 Axes>"
      ]
     },
     "metadata": {},
     "output_type": "display_data"
    }
   ],
   "source": [
    "# Evaluating the model\n",
    "accuracy = accuracy_score(y_test, y_pred)*100\n",
    "precision = precision_score(y_test, y_pred)*100\n",
    "recall = recall_score(y_test, y_pred)*100\n",
    "f1 = f1_score(y_test, y_pred)*100\n",
    "\n",
    "# Printing the results\n",
    "print(f'Accuracy: {accuracy:.4f}')\n",
    "print(f'Precision: {precision:.4f}')\n",
    "print(f'Recall: {recall:.4f}')\n",
    "print(f'F1 Score: {f1:.4f}')\n",
    "\n",
    "# Confusion matrix\n",
    "cm = confusion_matrix(y_test, y_pred)\n",
    "print(\"Confusion Matrix:\")\n",
    "print(cm)\n",
    "\n",
    "# Plotting the confusion matrix\n",
    "plt.figure(figsize=(6, 6))\n",
    "sns.heatmap(cm, annot=True, fmt='d', cmap='Blues', xticklabels=['Not Spam', 'Spam'], yticklabels=['Not Spam', 'Spam'])\n",
    "plt.xlabel('Predicted')\n",
    "plt.ylabel('Actual')\n",
    "plt.title('Confusion Matrix')\n",
    "plt.show()\n",
    "\n",
    "# ROC curve\n",
    "y_prob = svm_model.predict_proba(X_test)[:, 1]\n",
    "fpr, tpr, thresholds = roc_curve(y_test, y_prob)\n",
    "roc_auc = auc(fpr, tpr)\n",
    "\n",
    "# Plot ROC curve\n",
    "plt.figure(figsize=(8, 6))\n",
    "plt.plot(fpr, tpr, color='blue', lw=2, label=f'ROC curve (area = {roc_auc:.2f})')\n",
    "plt.plot([0, 1], [0, 1], color='gray', lw=2, linestyle='--')\n",
    "plt.xlabel('False Positive Rate')\n",
    "plt.ylabel('True Positive Rate')\n",
    "plt.title('Receiver Operating Characteristic')\n",
    "plt.legend(loc='lower right')\n",
    "plt.show()"
   ]
  },
  {
   "cell_type": "code",
   "execution_count": 42,
   "metadata": {
    "execution": {
     "iopub.execute_input": "2025-01-04T18:45:11.117890Z",
     "iopub.status.busy": "2025-01-04T18:45:11.117612Z",
     "iopub.status.idle": "2025-01-04T18:45:11.235798Z",
     "shell.execute_reply": "2025-01-04T18:45:11.234877Z",
     "shell.execute_reply.started": "2025-01-04T18:45:11.117869Z"
    },
    "trusted": true
   },
   "outputs": [
    {
     "name": "stdout",
     "output_type": "stream",
     "text": [
      "Model and vectorizer have been saved to .pkl files!\n"
     ]
    }
   ],
   "source": [
    "import pickle\n",
    "\n",
    "# Saving the model and vectorizer to .pkl files\n",
    "with open('spam_svm_model.pkl', 'wb') as model_file:\n",
    "    pickle.dump(svm_model, model_file)\n",
    "\n",
    "with open('tfidf_vectorizer.pkl', 'wb') as vec_file:\n",
    "    pickle.dump(tfidf_vectorizer, vec_file)\n",
    "\n",
    "print(\"Model and vectorizer have been saved to .pkl files!\")"
   ]
  },
  {
   "cell_type": "markdown",
   "metadata": {},
   "source": [
    "# **Test the model by providing some input text or email content using the code snippet provided below.** "
   ]
  },
  {
   "cell_type": "code",
   "execution_count": 45,
   "metadata": {
    "execution": {
     "iopub.execute_input": "2025-01-04T19:08:00.362965Z",
     "iopub.status.busy": "2025-01-04T19:08:00.362665Z",
     "iopub.status.idle": "2025-01-04T19:08:00.411162Z",
     "shell.execute_reply": "2025-01-04T19:08:00.410410Z",
     "shell.execute_reply.started": "2025-01-04T19:08:00.362944Z"
    },
    "trusted": true
   },
   "outputs": [
    {
     "name": "stdout",
     "output_type": "stream",
     "text": [
      "hurry lotery cupon pay 1000 claim prize click\n",
      "The email is: Spam\n"
     ]
    }
   ],
   "source": [
    "# Loading the saved model and vectorizer\n",
    "with open('model/spam_svm_model.pkl', 'rb') as model_file:\n",
    "    loaded_model = pickle.load(model_file)\n",
    "\n",
    "with open('model/tfidf_vectorizer.pkl', 'rb') as vec_file:\n",
    "    loaded_vectorizer = pickle.load(vec_file)\n",
    "\n",
    "\n",
    "# Example: \n",
    "email_text = \"\"\" hurry you won lotery cupon pay 1000$ to claim your prize click here \"\"\"\n",
    "# Preprocess the email text\n",
    "email_text = preprocess_text(email_text)\n",
    "print(email_text)\n",
    "\n",
    "# Transform the email text using the same vectorizer that was used during training\n",
    "email_vectorized = loaded_vectorizer.transform([email_text]).toarray()\n",
    "\n",
    "# Predict using the loaded model\n",
    "prediction = loaded_model.predict(email_vectorized)\n",
    "\n",
    "# Output the result\n",
    "print(f'The email is: {\"Spam\" if prediction == 1 else \"Not Spam\"}')\n"
   ]
  },
  {
   "cell_type": "code",
   "execution_count": null,
   "metadata": {
    "trusted": true
   },
   "outputs": [],
   "source": []
  }
 ],
 "metadata": {
  "kaggle": {
   "accelerator": "gpu",
   "dataSources": [
    {
     "datasetId": 3690036,
     "sourceId": 6399975,
     "sourceType": "datasetVersion"
    }
   ],
   "dockerImageVersionId": 30823,
   "isGpuEnabled": true,
   "isInternetEnabled": true,
   "language": "python",
   "sourceType": "notebook"
  },
  "kernelspec": {
   "display_name": "Python 3",
   "language": "python",
   "name": "python3"
  },
  "language_info": {
   "codemirror_mode": {
    "name": "ipython",
    "version": 3
   },
   "file_extension": ".py",
   "mimetype": "text/x-python",
   "name": "python",
   "nbconvert_exporter": "python",
   "pygments_lexer": "ipython3",
   "version": "3.13.1"
  }
 },
 "nbformat": 4,
 "nbformat_minor": 4
}
